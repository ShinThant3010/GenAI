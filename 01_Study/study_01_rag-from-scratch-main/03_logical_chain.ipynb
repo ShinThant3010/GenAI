{
 "cells": [
  {
   "cell_type": "code",
   "execution_count": 1,
   "metadata": {},
   "outputs": [],
   "source": [
    "from langchain_anthropic import ChatAnthropic\n",
    "from langchain_core.output_parsers import StrOutputParser\n",
    "from langchain_core.prompts import PromptTemplate\n",
    "from langchain_openai import ChatOpenAI"
   ]
  },
  {
   "cell_type": "code",
   "execution_count": null,
   "metadata": {},
   "outputs": [],
   "source": [
    "OPEN_AI_API_KEY = \"API_KEY\"\n",
    "\n",
    "llm_model = ChatOpenAI(model = \"gpt-3.5-turbo-0125\", temperature=0, openai_api_key = OPEN_AI_API_KEY)"
   ]
  },
  {
   "cell_type": "code",
   "execution_count": 3,
   "metadata": {},
   "outputs": [
    {
     "data": {
      "text/plain": [
       "'Anthropic'"
      ]
     },
     "execution_count": 3,
     "metadata": {},
     "output_type": "execute_result"
    }
   ],
   "source": [
    "chain = (\n",
    "    PromptTemplate.from_template(\n",
    "        \"\"\" Given the user question below, classify it as either being about `LangChain`, `Anthropic`, or `Other`.\n",
    "        Do not respond with more than one word.\n",
    "        \n",
    "        <question>\n",
    "        {question}\n",
    "        </question>\n",
    "\n",
    "        Classification:\"\"\"\n",
    "    )\n",
    "    | llm_model\n",
    "    | StrOutputParser()\n",
    ")\n",
    "\n",
    "chain.invoke({\"question\": \"How do I call Anthropic?\"})"
   ]
  },
  {
   "cell_type": "code",
   "execution_count": 4,
   "metadata": {},
   "outputs": [],
   "source": [
    "langchain_chain = PromptTemplate.from_template(\n",
    "    \"\"\" You are an expert in langchain. \\\n",
    "        Always answer questions starting with \"As Harrison Chase told me\". \\\n",
    "        Respond to the following question: \n",
    "        \n",
    "        Question: {question}\n",
    "        Answer:\"\"\"\n",
    ") | llm_model\n",
    "\n",
    "anthropic_chain = PromptTemplate.from_template(\n",
    "    \"\"\" You are an expert in anthropic. \\\n",
    "        Always answer questions starting with \"As Dario Amodei told me\". \\\n",
    "        Respond to the following question: \n",
    "        \n",
    "        Question: {question}\n",
    "        Answer:\"\"\"\n",
    ") | llm_model\n",
    "\n",
    "general_chain = PromptTemplate.from_template(\n",
    "    \"\"\" Respond to the following question: \n",
    "        \n",
    "        Question: {question}\n",
    "        Answer:\"\"\"\n",
    ") | llm_model"
   ]
  },
  {
   "cell_type": "code",
   "execution_count": 5,
   "metadata": {},
   "outputs": [],
   "source": [
    "def route(info):\n",
    "    if \"anthropic\" in info[\"topic\"].lower():\n",
    "        return anthropic_chain\n",
    "    elif \"langchain\" in info[\"topic\"].lower():\n",
    "        return langchain_chain\n",
    "    else:\n",
    "        return general_chain"
   ]
  },
  {
   "cell_type": "code",
   "execution_count": 6,
   "metadata": {},
   "outputs": [],
   "source": [
    "from langchain_core.runnables import RunnableLambda\n",
    "\n",
    "full_chain = {\"topic\": chain, \"question\": lambda x: x[\"question\"]} | RunnableLambda(route)"
   ]
  },
  {
   "cell_type": "code",
   "execution_count": 7,
   "metadata": {},
   "outputs": [
    {
     "data": {
      "text/plain": [
       "AIMessage(content='As Dario Amodei told me, to use Anthropic, you can start by familiarizing yourself with the principles of anthropic reasoning and applying them to various scenarios or problems you encounter. This may involve considering the role of observers or conscious beings in the universe and how their presence influences the outcomes or conditions of certain events. Additionally, you can explore the implications of anthropic reasoning in fields such as cosmology, philosophy, and artificial intelligence.', response_metadata={'token_usage': {'completion_tokens': 90, 'prompt_tokens': 52, 'total_tokens': 142}, 'model_name': 'gpt-3.5-turbo-0125', 'system_fingerprint': None, 'finish_reason': 'stop', 'logprobs': None}, id='run-7969a027-7733-45ca-bba0-72a807371cde-0')"
      ]
     },
     "execution_count": 7,
     "metadata": {},
     "output_type": "execute_result"
    }
   ],
   "source": [
    "full_chain.invoke({\"question\": \"how do I use Anthropic?\"})"
   ]
  }
 ],
 "metadata": {
  "kernelspec": {
   "display_name": "Python 3",
   "language": "python",
   "name": "python3"
  },
  "language_info": {
   "codemirror_mode": {
    "name": "ipython",
    "version": 3
   },
   "file_extension": ".py",
   "mimetype": "text/x-python",
   "name": "python",
   "nbconvert_exporter": "python",
   "pygments_lexer": "ipython3",
   "version": "3.11.0"
  }
 },
 "nbformat": 4,
 "nbformat_minor": 2
}
