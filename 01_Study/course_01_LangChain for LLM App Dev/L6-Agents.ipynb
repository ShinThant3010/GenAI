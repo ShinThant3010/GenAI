{
 "cells": [
  {
   "cell_type": "markdown",
   "metadata": {},
   "source": [
    "How the PythonREPLTool() Agent is prompted...\n",
    "\n",
    "can check this by lanchain.debug = True\n",
    "\n",
    "- You are an agent designed to write and execute python code to answer questions. \\n\n",
    "- You have access to a python REPL, which you can use to execute python code. \\n\n",
    "- If you get an error, debug your code and try again. \\n\n",
    "- Only use the output of your code to answer the question. \\n\n",
    "- You might know the answer without running any code, but you should still run the code to get the answer. \\n\n",
    "- If it does not seem like you can write code to answer the question, just return \\\"I don't know\\\" as the answer. \\n\\n\\n\n",
    "<br></br>\n",
    "- Python REPL: A python shell.\n",
    "- Use this to execute python commands. \n",
    "- Input should be a valid python command. \n",
    "- If you want to see the output of a value, you should print it out with `print(...)`\\n\\n\n",
    "<br></br>\n",
    "\n",
    "Use the following format:\\n\\n\n",
    "\n",
    "- Question: the input question you must answer\\n\n",
    "- Thought: you should always think about what to do \\n\n",
    "- Action: the action to take, should be one of [Python REPL]\\n\n",
    "- Action Input: the input to the action \\n\n",
    "- Observation: the result of the action \\n... (This Though/Action/Action Input/Observation can repeat N times)\\n\""
   ]
  },
  {
   "cell_type": "code",
   "execution_count": null,
   "metadata": {},
   "outputs": [],
   "source": [
    "from langchain.agents.agent_toolkits import create_python_agent\n",
    "from langchain.agents import load_tools, initialize_agent\n",
    "from langchain.agents import AgentType\n",
    "from langchain.tools.python.tool import PythonREPLTool\n",
    "from langchain.python import PythonREPL\n",
    "from langchain.chat_models import ChatOpenAI\n",
    "import langchain\n",
    "\n",
    "llm = ChatOpenAI(temperature = 0, model = \"gpt-3.5-turbo\")"
   ]
  },
  {
   "cell_type": "code",
   "execution_count": null,
   "metadata": {},
   "outputs": [],
   "source": [
    "customer_list = [[\"Harrison\", \"Chase\"], \n",
    "                 [\"Lang\", \"Chain\"],\n",
    "                 [\"Dolly\", \"Too\"],\n",
    "                 [\"Elle\", \"Elem\"], \n",
    "                 [\"Geoff\",\"Fusion\"], \n",
    "                 [\"Trance\",\"Former\"],\n",
    "                 [\"Jen\",\"Ayai\"]\n",
    "                ]"
   ]
  },
  {
   "cell_type": "markdown",
   "metadata": {},
   "source": [
    "Built-in LangChain tools"
   ]
  },
  {
   "cell_type": "code",
   "execution_count": null,
   "metadata": {},
   "outputs": [],
   "source": [
    "tools = load_tools([\"llm-math\", \"wikipedia\"], llm = llm)\n",
    "\n",
    "agent = initialize_agent(tools, llm, agent = AgentType.CHAT_ZERO_SHOT_REACT_DESCRIPTION, handle_parsing_errors = True)\n",
    "\n",
    "# Test examples\n",
    "agent(\"what is the 25% of 300?\")\n",
    "question = \"Tom M. Mitchell is an American computer scientist and the Founders University Professor at Carnegie Mellon University (CMU). what book did he write?\"\n",
    "result = agent(question)"
   ]
  },
  {
   "cell_type": "markdown",
   "metadata": {},
   "source": [
    "Python Agent"
   ]
  },
  {
   "cell_type": "code",
   "execution_count": null,
   "metadata": {},
   "outputs": [],
   "source": [
    "agent = create_python_agent(llm, tool = PythonREPLTool(), verbose = True)\n",
    "\n",
    "langchain.debug = True\n",
    "agent.run(f\"\"\"Sort these customers by last name and then first name and print the output: {customer_list}\"\"\") \n",
    "langchain.debug = False"
   ]
  },
  {
   "cell_type": "markdown",
   "metadata": {},
   "source": [
    "Define your own tool"
   ]
  },
  {
   "cell_type": "code",
   "execution_count": null,
   "metadata": {},
   "outputs": [],
   "source": [
    "from langchain.agents import tool\n",
    "from datetime import date\n",
    "\n",
    "@tool\n",
    "def time(text: str) -> str:\n",
    "    \"\"\"Returns todays date, use this for any \\\n",
    "    questions related to knowing todays date. \\\n",
    "    The input should always be an empty string, \\\n",
    "    and this function will always return todays \\\n",
    "    date - any date mathmatics should occur \\\n",
    "    outside this function.\"\"\"\n",
    "    return str(date.today())"
   ]
  },
  {
   "cell_type": "code",
   "execution_count": null,
   "metadata": {},
   "outputs": [],
   "source": [
    "agent = initialize_agent(\n",
    "    tools + [time],\n",
    "    llm, \n",
    "    agent = AgentType.CHAT_ZERO_SHOT_REACT_DESCRIPTION, \n",
    "    handle_parsing_errors = True,\n",
    "    verbose = True\n",
    ")"
   ]
  },
  {
   "cell_type": "code",
   "execution_count": null,
   "metadata": {},
   "outputs": [],
   "source": [
    "try:\n",
    "    result = agent(\"whats the date today?\") \n",
    "except: \n",
    "    print(\"exception on external access\")"
   ]
  }
 ],
 "metadata": {
  "kernelspec": {
   "display_name": "Python 3",
   "language": "python",
   "name": "python3"
  },
  "language_info": {
   "codemirror_mode": {
    "name": "ipython",
    "version": 3
   },
   "file_extension": ".py",
   "mimetype": "text/x-python",
   "name": "python",
   "nbconvert_exporter": "python",
   "pygments_lexer": "ipython3",
   "version": "3.11.0"
  }
 },
 "nbformat": 4,
 "nbformat_minor": 2
}
